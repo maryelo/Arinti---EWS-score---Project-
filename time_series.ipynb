{
 "cells": [
  {
   "cell_type": "code",
   "execution_count": 3,
   "metadata": {},
   "outputs": [],
   "source": [
    "import numpy as np \n",
    "import pandas as pd \n",
    "import seaborn as sns\n",
    "import matplotlib.pyplot as plt\n",
    "%matplotlib inline\n",
    "\n",
    "from influxdb import InfluxDBClient\n",
    "from statsmodels.graphics.tsaplots import plot_pacf\n",
    "from statsmodels.graphics.tsaplots import plot_acf\n",
    "from scipy.stats import linregress"
   ]
  },
  {
   "cell_type": "code",
   "execution_count": 4,
   "metadata": {},
   "outputs": [],
   "source": [
    "def parser(s):\n",
    "    return datetime.strptime(s, '%Y-%m')"
   ]
  },
  {
   "cell_type": "code",
   "execution_count": 5,
   "metadata": {},
   "outputs": [],
   "source": [
    "df = pd.read_csv('20200124_ews_observations.csv', low_memory=False)\n"
   ]
  },
  {
   "cell_type": "code",
   "execution_count": 6,
   "metadata": {},
   "outputs": [],
   "source": [
    "##### pd.to_datetime(df['ObservationDate'])\n",
    "df['ObservationDate'] = pd.to_datetime(df['ObservationDate'])"
   ]
  },
  {
   "cell_type": "code",
   "execution_count": 7,
   "metadata": {},
   "outputs": [
    {
     "name": "stdout",
     "output_type": "stream",
     "text": [
      "<class 'pandas.core.frame.DataFrame'>\n",
      "RangeIndex: 171736 entries, 0 to 171735\n",
      "Data columns (total 18 columns):\n",
      " #   Column           Non-Null Count   Dtype         \n",
      "---  ------           --------------   -----         \n",
      " 0   PatientId        171736 non-null  int64         \n",
      " 1   ObservationDate  171736 non-null  datetime64[ns]\n",
      " 2   EwsProcedure     171736 non-null  object        \n",
      " 3   EWS_Total        171736 non-null  int64         \n",
      " 4   SBP              160949 non-null  float64       \n",
      " 5   SBP_Score        160949 non-null  float64       \n",
      " 6   LOC              171736 non-null  object        \n",
      " 7   LOC_Score        171736 non-null  int64         \n",
      " 8   SpO2             171734 non-null  float64       \n",
      " 9   SpO2_Score       171734 non-null  float64       \n",
      " 10  Add_O2           171734 non-null  object        \n",
      " 11  Add_O2_Score     171734 non-null  float64       \n",
      " 12  HR               171736 non-null  int64         \n",
      " 13  HR_Score         171736 non-null  int64         \n",
      " 14  RR               171736 non-null  int64         \n",
      " 15  RR_Score         171736 non-null  int64         \n",
      " 16  TEMP             171736 non-null  float64       \n",
      " 17  TEMP_Score       171736 non-null  int64         \n",
      "dtypes: datetime64[ns](1), float64(6), int64(8), object(3)\n",
      "memory usage: 23.6+ MB\n"
     ]
    }
   ],
   "source": [
    "df.info()"
   ]
  },
  {
   "cell_type": "code",
   "execution_count": 8,
   "metadata": {},
   "outputs": [
    {
     "data": {
      "text/plain": [
       "PatientId              0\n",
       "ObservationDate        0\n",
       "EwsProcedure           0\n",
       "EWS_Total              0\n",
       "SBP                10787\n",
       "SBP_Score          10787\n",
       "LOC                    0\n",
       "LOC_Score              0\n",
       "SpO2                   2\n",
       "SpO2_Score             2\n",
       "Add_O2                 2\n",
       "Add_O2_Score           2\n",
       "HR                     0\n",
       "HR_Score               0\n",
       "RR                     0\n",
       "RR_Score               0\n",
       "TEMP                   0\n",
       "TEMP_Score             0\n",
       "dtype: int64"
      ]
     },
     "execution_count": 8,
     "metadata": {},
     "output_type": "execute_result"
    }
   ],
   "source": [
    "df.isnull().sum()\n"
   ]
  },
  {
   "cell_type": "code",
   "execution_count": 9,
   "metadata": {},
   "outputs": [],
   "source": [
    "df['SBP'].fillna(value=df['SBP'].mean(), inplace=True)  # code for NaN => mean value\n",
    "df['SBP_Score'].fillna(value=df['SBP_Score'].mean(), inplace=True)\n",
    "df['SpO2_Score'].fillna(value=df['SpO2_Score'].mean(), inplace=True)\n",
    "df['SpO2'].fillna(value=df['SpO2'].mean(), inplace=True)\n",
    "df['Add_O2_Score'].fillna(value=df['Add_O2_Score'].mean(), inplace=True)\n",
    "df['Add_O2'].fillna(value=df['Add_O2_Score'].mean(), inplace=True)"
   ]
  },
  {
   "cell_type": "code",
   "execution_count": 10,
   "metadata": {},
   "outputs": [
    {
     "data": {
      "text/plain": [
       "0"
      ]
     },
     "execution_count": 10,
     "metadata": {},
     "output_type": "execute_result"
    }
   ],
   "source": [
    "df.isnull().sum().sum() # check the total amount of NaN values in the database"
   ]
  },
  {
   "cell_type": "code",
   "execution_count": 11,
   "metadata": {},
   "outputs": [
    {
     "name": "stdout",
     "output_type": "stream",
     "text": [
      "[   29    30    31 ... 20530 20531 20532]\n",
      "['2019-05-01T13:27:50.000000000' '2019-05-01T15:27:44.000000000'\n",
      " '2019-05-01T15:54:27.000000000' ... '2020-01-02T09:03:14.000000000'\n",
      " '2020-01-02T09:03:20.000000000' '2020-01-02T09:03:56.000000000']\n",
      "['NEWS2']\n",
      "[ 0  3  1  2  6  7  5  4  9 10  8 11 12 19 13 14 15]\n",
      "[143.         120.68866535 117.         135.         125.\n",
      " 114.         140.         123.         110.         104.\n",
      "  89.          87.         137.         112.         146.\n",
      "  94.         127.          92.         201.         191.\n",
      "  73.         102.         122.         106.         130.\n",
      " 142.         189.         157.          97.         129.\n",
      " 109.         121.         152.         132.         147.\n",
      " 134.         158.         148.         111.         145.\n",
      " 141.          85.         118.         133.         156.\n",
      " 149.         124.         113.          93.         131.\n",
      " 108.         119.         144.         139.         126.\n",
      " 128.         105.         115.         103.          99.\n",
      "  88.          98.         138.         136.         167.\n",
      "  91.         164.          90.         100.         116.\n",
      " 150.         153.         120.         107.         101.\n",
      "  95.         154.          86.         155.         173.\n",
      "  82.          84.         165.         183.         192.\n",
      " 184.          96.         180.         172.         168.\n",
      " 198.          68.         160.         202.         159.\n",
      " 182.         169.         151.          70.          58.\n",
      " 161.         175.         163.         177.         181.\n",
      " 185.         166.           0.          60.          72.\n",
      "  64.         179.          66.         174.         193.\n",
      " 176.         190.         170.          78.          62.\n",
      "  81.          54.          80.          76.          74.\n",
      "  69.          77.          71.         211.          79.\n",
      " 199.         210.         204.         171.         162.\n",
      "  83.          75.         188.         178.         195.\n",
      " 203.         234.          56.         194.         206.\n",
      " 186.         187.         205.         196.         200.\n",
      "  53.          50.         216.         208.         223.\n",
      " 209.         197.         213.         220.         217.\n",
      "  65.         225.          67.         219.          52.\n",
      "  45.         214.          63.          61.          55.\n",
      " 207.         233.         232.         215.          48.\n",
      " 218.         212.          40.        ]\n",
      "[0.         0.49909599 1.         3.         2.        ]\n",
      "['ALERT' 'UNRESPONSIVE' 'NEW_CONFUSION' 'VOICE' 'PAIN']\n",
      "[0 3]\n",
      "[ 96.          94.          95.          98.          97.\n",
      "  99.         100.          93.          92.          88.\n",
      "  90.          91.          89.          86.          85.\n",
      "  87.           9.          82.           0.          21.\n",
      "   1.          40.          84.          17.          79.\n",
      "  83.           4.           2.          80.          78.\n",
      "  81.          24.          28.           3.          10.\n",
      "  32.          76.          65.          23.          70.\n",
      "  72.          74.          12.          18.          75.\n",
      "  68.          69.          77.          16.           5.\n",
      "   6.          36.          66.          95.94740704  71.\n",
      "   7.          46.          73.          20.          67.\n",
      "  22.          19.          60.          56.          50.        ]\n",
      "[0.         1.         2.         3.         0.35592835]\n",
      "[False True 0.4164230728917978]\n",
      "[0.         2.         0.41642307]\n",
      "[ 80  83  75  85  89  82  66  84  87  61  64  77  53  73  59  72  65  60\n",
      "  70  54  55  67  90  79  86  44  91  58  68  56  57  63  62 101 108  74\n",
      "  78  96  94  51  76  69 104  81  52  95  88  92  43  71  49  93  50  46\n",
      "  38 100  99  35 111  97 114 112 127 123 120 103 121 115 119 106 102  48\n",
      " 155 136 142 107 113 124 105 116  47  98 126  45 110 118 122 109 150 133\n",
      " 129 132 117  40  41 130 125  42 137 140 147 139 161 153 156 174 141 152\n",
      " 154 160 169 158 144 128 149 138 177 172 148 143  25 135 182 134 178  39\n",
      " 131 180 176 168 186  37  20 159 175 171 151 166 170 164 167 162 145  36\n",
      " 146  31  30  29  28 189 173  33  34 187 181 163 200 191 192 188 198 165\n",
      " 194 157  32 199 183 190 184  26 239  27  22 185 208  23 196 179 252 210]\n",
      "[0 1 3 2]\n",
      "[ 18  16  14  19  13  17  25  26  12  20  21  15  11  10  22  24  40  31\n",
      "  38  37  42  27  29  35  28  30  39  23   9   0   8  74  58   6  45  36\n",
      "  32  33  66  95   7  83  61   2  99   1  79  34  89  84  93   3  60  96\n",
      "  97 101 102   5  55  53  52  56  71  85  67  50  41  44  87 116  65  78\n",
      "  72  77  43 103  46  80  88  94  98  49]\n",
      "[0 3 2 1]\n",
      "[36.6 36.5 37.3 37.2 36.1 37.  36.2 37.1 35.8 36.3 35.9 36.8 35.6 36.4\n",
      " 35.4 36.7 36.  35.7 36.9 37.5 37.8 37.7 37.9 38.1 37.4 37.6 38.  38.3\n",
      " 35.3 38.5 38.4 35.5 42.  38.9 38.2 35.2 39.2 39.  38.7 39.6 35.  35.1\n",
      " 39.9 38.6 38.8 39.5 39.4 39.3  6.8 34.8  6.5  3.2 39.1 39.7 27.8  3.\n",
      "  6.1 24.4 34.5 50.  40.4 40.5 40.  34.7 34.4 40.8 34.9 41.  34.6  3.1\n",
      " 34.2  8.3  3.6 33.9 40.1 39.8 33.  34.3]\n",
      "[0 1 2 3]\n"
     ]
    }
   ],
   "source": [
    "#Check the unique values per column\n",
    "for i in df.columns:\n",
    "    print(df[i].unique())"
   ]
  },
  {
   "cell_type": "code",
   "execution_count": null,
   "metadata": {},
   "outputs": [],
   "source": []
  },
  {
   "cell_type": "code",
   "execution_count": 12,
   "metadata": {},
   "outputs": [
    {
     "data": {
      "text/html": [
       "<div>\n",
       "<style scoped>\n",
       "    .dataframe tbody tr th:only-of-type {\n",
       "        vertical-align: middle;\n",
       "    }\n",
       "\n",
       "    .dataframe tbody tr th {\n",
       "        vertical-align: top;\n",
       "    }\n",
       "\n",
       "    .dataframe thead th {\n",
       "        text-align: right;\n",
       "    }\n",
       "</style>\n",
       "<table border=\"1\" class=\"dataframe\">\n",
       "  <thead>\n",
       "    <tr style=\"text-align: right;\">\n",
       "      <th></th>\n",
       "      <th>PatientId</th>\n",
       "      <th>ObservationDate</th>\n",
       "      <th>EwsProcedure</th>\n",
       "      <th>EWS_Total</th>\n",
       "      <th>SBP</th>\n",
       "      <th>SBP_Score</th>\n",
       "      <th>LOC</th>\n",
       "      <th>LOC_Score</th>\n",
       "      <th>SpO2</th>\n",
       "      <th>SpO2_Score</th>\n",
       "      <th>Add_O2</th>\n",
       "      <th>Add_O2_Score</th>\n",
       "      <th>HR</th>\n",
       "      <th>HR_Score</th>\n",
       "      <th>RR</th>\n",
       "      <th>RR_Score</th>\n",
       "      <th>TEMP</th>\n",
       "      <th>TEMP_Score</th>\n",
       "    </tr>\n",
       "  </thead>\n",
       "  <tbody>\n",
       "    <tr>\n",
       "      <th>0</th>\n",
       "      <td>29</td>\n",
       "      <td>2019-05-01 13:27:50</td>\n",
       "      <td>0</td>\n",
       "      <td>0</td>\n",
       "      <td>143.000000</td>\n",
       "      <td>0.000000</td>\n",
       "      <td>0</td>\n",
       "      <td>0</td>\n",
       "      <td>96.0</td>\n",
       "      <td>0.0</td>\n",
       "      <td>0</td>\n",
       "      <td>0.0</td>\n",
       "      <td>80</td>\n",
       "      <td>0</td>\n",
       "      <td>18</td>\n",
       "      <td>0</td>\n",
       "      <td>36.6</td>\n",
       "      <td>0</td>\n",
       "    </tr>\n",
       "    <tr>\n",
       "      <th>1</th>\n",
       "      <td>30</td>\n",
       "      <td>2019-05-01 15:27:44</td>\n",
       "      <td>0</td>\n",
       "      <td>3</td>\n",
       "      <td>120.688665</td>\n",
       "      <td>0.499096</td>\n",
       "      <td>0</td>\n",
       "      <td>0</td>\n",
       "      <td>94.0</td>\n",
       "      <td>1.0</td>\n",
       "      <td>0</td>\n",
       "      <td>0.0</td>\n",
       "      <td>83</td>\n",
       "      <td>0</td>\n",
       "      <td>16</td>\n",
       "      <td>0</td>\n",
       "      <td>36.5</td>\n",
       "      <td>0</td>\n",
       "    </tr>\n",
       "    <tr>\n",
       "      <th>2</th>\n",
       "      <td>31</td>\n",
       "      <td>2019-05-01 15:54:27</td>\n",
       "      <td>0</td>\n",
       "      <td>1</td>\n",
       "      <td>117.000000</td>\n",
       "      <td>0.000000</td>\n",
       "      <td>0</td>\n",
       "      <td>0</td>\n",
       "      <td>95.0</td>\n",
       "      <td>1.0</td>\n",
       "      <td>0</td>\n",
       "      <td>0.0</td>\n",
       "      <td>75</td>\n",
       "      <td>0</td>\n",
       "      <td>14</td>\n",
       "      <td>0</td>\n",
       "      <td>37.3</td>\n",
       "      <td>0</td>\n",
       "    </tr>\n",
       "    <tr>\n",
       "      <th>3</th>\n",
       "      <td>32</td>\n",
       "      <td>2019-05-01 16:07:27</td>\n",
       "      <td>0</td>\n",
       "      <td>0</td>\n",
       "      <td>120.688665</td>\n",
       "      <td>0.499096</td>\n",
       "      <td>0</td>\n",
       "      <td>0</td>\n",
       "      <td>98.0</td>\n",
       "      <td>0.0</td>\n",
       "      <td>0</td>\n",
       "      <td>0.0</td>\n",
       "      <td>85</td>\n",
       "      <td>0</td>\n",
       "      <td>19</td>\n",
       "      <td>0</td>\n",
       "      <td>37.2</td>\n",
       "      <td>0</td>\n",
       "    </tr>\n",
       "    <tr>\n",
       "      <th>4</th>\n",
       "      <td>33</td>\n",
       "      <td>2019-05-01 17:03:16</td>\n",
       "      <td>0</td>\n",
       "      <td>0</td>\n",
       "      <td>135.000000</td>\n",
       "      <td>0.000000</td>\n",
       "      <td>0</td>\n",
       "      <td>0</td>\n",
       "      <td>97.0</td>\n",
       "      <td>0.0</td>\n",
       "      <td>0</td>\n",
       "      <td>0.0</td>\n",
       "      <td>89</td>\n",
       "      <td>0</td>\n",
       "      <td>14</td>\n",
       "      <td>0</td>\n",
       "      <td>36.1</td>\n",
       "      <td>0</td>\n",
       "    </tr>\n",
       "  </tbody>\n",
       "</table>\n",
       "</div>"
      ],
      "text/plain": [
       "   PatientId     ObservationDate  EwsProcedure  EWS_Total         SBP  \\\n",
       "0         29 2019-05-01 13:27:50             0          0  143.000000   \n",
       "1         30 2019-05-01 15:27:44             0          3  120.688665   \n",
       "2         31 2019-05-01 15:54:27             0          1  117.000000   \n",
       "3         32 2019-05-01 16:07:27             0          0  120.688665   \n",
       "4         33 2019-05-01 17:03:16             0          0  135.000000   \n",
       "\n",
       "   SBP_Score  LOC  LOC_Score  SpO2  SpO2_Score  Add_O2  Add_O2_Score  HR  \\\n",
       "0   0.000000    0          0  96.0         0.0       0           0.0  80   \n",
       "1   0.499096    0          0  94.0         1.0       0           0.0  83   \n",
       "2   0.000000    0          0  95.0         1.0       0           0.0  75   \n",
       "3   0.499096    0          0  98.0         0.0       0           0.0  85   \n",
       "4   0.000000    0          0  97.0         0.0       0           0.0  89   \n",
       "\n",
       "   HR_Score  RR  RR_Score  TEMP  TEMP_Score  \n",
       "0         0  18         0  36.6           0  \n",
       "1         0  16         0  36.5           0  \n",
       "2         0  14         0  37.3           0  \n",
       "3         0  19         0  37.2           0  \n",
       "4         0  14         0  36.1           0  "
      ]
     },
     "execution_count": 12,
     "metadata": {},
     "output_type": "execute_result"
    }
   ],
   "source": [
    "#Transforming text and categorical attributes¶\n",
    "\n",
    "from sklearn.preprocessing import LabelEncoder\n",
    "\n",
    "encoder = LabelEncoder ()\n",
    "\n",
    "for i in df.columns:\n",
    "    if df[i].dtype == object:\n",
    "        df[i] = encoder.fit_transform(df[i])\n",
    "df.head()"
   ]
  },
  {
   "cell_type": "code",
   "execution_count": 13,
   "metadata": {},
   "outputs": [],
   "source": [
    "df.to_csv('ews_prep.csv')"
   ]
  },
  {
   "cell_type": "code",
   "execution_count": 14,
   "metadata": {},
   "outputs": [
    {
     "name": "stdout",
     "output_type": "stream",
     "text": [
      "[   29    30    31 ... 20530 20531 20532]\n",
      "['2019-05-01T13:27:50.000000000' '2019-05-01T15:27:44.000000000'\n",
      " '2019-05-01T15:54:27.000000000' ... '2020-01-02T09:03:14.000000000'\n",
      " '2020-01-02T09:03:20.000000000' '2020-01-02T09:03:56.000000000']\n",
      "[0]\n",
      "[ 0  3  1  2  6  7  5  4  9 10  8 11 12 19 13 14 15]\n",
      "[143.         120.68866535 117.         135.         125.\n",
      " 114.         140.         123.         110.         104.\n",
      "  89.          87.         137.         112.         146.\n",
      "  94.         127.          92.         201.         191.\n",
      "  73.         102.         122.         106.         130.\n",
      " 142.         189.         157.          97.         129.\n",
      " 109.         121.         152.         132.         147.\n",
      " 134.         158.         148.         111.         145.\n",
      " 141.          85.         118.         133.         156.\n",
      " 149.         124.         113.          93.         131.\n",
      " 108.         119.         144.         139.         126.\n",
      " 128.         105.         115.         103.          99.\n",
      "  88.          98.         138.         136.         167.\n",
      "  91.         164.          90.         100.         116.\n",
      " 150.         153.         120.         107.         101.\n",
      "  95.         154.          86.         155.         173.\n",
      "  82.          84.         165.         183.         192.\n",
      " 184.          96.         180.         172.         168.\n",
      " 198.          68.         160.         202.         159.\n",
      " 182.         169.         151.          70.          58.\n",
      " 161.         175.         163.         177.         181.\n",
      " 185.         166.           0.          60.          72.\n",
      "  64.         179.          66.         174.         193.\n",
      " 176.         190.         170.          78.          62.\n",
      "  81.          54.          80.          76.          74.\n",
      "  69.          77.          71.         211.          79.\n",
      " 199.         210.         204.         171.         162.\n",
      "  83.          75.         188.         178.         195.\n",
      " 203.         234.          56.         194.         206.\n",
      " 186.         187.         205.         196.         200.\n",
      "  53.          50.         216.         208.         223.\n",
      " 209.         197.         213.         220.         217.\n",
      "  65.         225.          67.         219.          52.\n",
      "  45.         214.          63.          61.          55.\n",
      " 207.         233.         232.         215.          48.\n",
      " 218.         212.          40.        ]\n",
      "[0.         0.49909599 1.         3.         2.        ]\n",
      "[0 3 1 4 2]\n",
      "[0 3]\n",
      "[ 96.          94.          95.          98.          97.\n",
      "  99.         100.          93.          92.          88.\n",
      "  90.          91.          89.          86.          85.\n",
      "  87.           9.          82.           0.          21.\n",
      "   1.          40.          84.          17.          79.\n",
      "  83.           4.           2.          80.          78.\n",
      "  81.          24.          28.           3.          10.\n",
      "  32.          76.          65.          23.          70.\n",
      "  72.          74.          12.          18.          75.\n",
      "  68.          69.          77.          16.           5.\n",
      "   6.          36.          66.          95.94740704  71.\n",
      "   7.          46.          73.          20.          67.\n",
      "  22.          19.          60.          56.          50.        ]\n",
      "[0.         1.         2.         3.         0.35592835]\n",
      "[0 2 1]\n",
      "[0.         2.         0.41642307]\n",
      "[ 80  83  75  85  89  82  66  84  87  61  64  77  53  73  59  72  65  60\n",
      "  70  54  55  67  90  79  86  44  91  58  68  56  57  63  62 101 108  74\n",
      "  78  96  94  51  76  69 104  81  52  95  88  92  43  71  49  93  50  46\n",
      "  38 100  99  35 111  97 114 112 127 123 120 103 121 115 119 106 102  48\n",
      " 155 136 142 107 113 124 105 116  47  98 126  45 110 118 122 109 150 133\n",
      " 129 132 117  40  41 130 125  42 137 140 147 139 161 153 156 174 141 152\n",
      " 154 160 169 158 144 128 149 138 177 172 148 143  25 135 182 134 178  39\n",
      " 131 180 176 168 186  37  20 159 175 171 151 166 170 164 167 162 145  36\n",
      " 146  31  30  29  28 189 173  33  34 187 181 163 200 191 192 188 198 165\n",
      " 194 157  32 199 183 190 184  26 239  27  22 185 208  23 196 179 252 210]\n",
      "[0 1 3 2]\n",
      "[ 18  16  14  19  13  17  25  26  12  20  21  15  11  10  22  24  40  31\n",
      "  38  37  42  27  29  35  28  30  39  23   9   0   8  74  58   6  45  36\n",
      "  32  33  66  95   7  83  61   2  99   1  79  34  89  84  93   3  60  96\n",
      "  97 101 102   5  55  53  52  56  71  85  67  50  41  44  87 116  65  78\n",
      "  72  77  43 103  46  80  88  94  98  49]\n",
      "[0 3 2 1]\n",
      "[36.6 36.5 37.3 37.2 36.1 37.  36.2 37.1 35.8 36.3 35.9 36.8 35.6 36.4\n",
      " 35.4 36.7 36.  35.7 36.9 37.5 37.8 37.7 37.9 38.1 37.4 37.6 38.  38.3\n",
      " 35.3 38.5 38.4 35.5 42.  38.9 38.2 35.2 39.2 39.  38.7 39.6 35.  35.1\n",
      " 39.9 38.6 38.8 39.5 39.4 39.3  6.8 34.8  6.5  3.2 39.1 39.7 27.8  3.\n",
      "  6.1 24.4 34.5 50.  40.4 40.5 40.  34.7 34.4 40.8 34.9 41.  34.6  3.1\n",
      " 34.2  8.3  3.6 33.9 40.1 39.8 33.  34.3]\n",
      "[0 1 2 3]\n"
     ]
    }
   ],
   "source": [
    "#Check the unique values per column\n",
    "for i in df.columns:\n",
    "    print(df[i].unique())"
   ]
  },
  {
   "cell_type": "code",
   "execution_count": null,
   "metadata": {},
   "outputs": [],
   "source": []
  },
  {
   "cell_type": "code",
   "execution_count": 15,
   "metadata": {},
   "outputs": [
    {
     "data": {
      "text/plain": [
       "19        1\n",
       "15        2\n",
       "14        3\n",
       "13       14\n",
       "12       31\n",
       "11       84\n",
       "10      190\n",
       "9       576\n",
       "8      1144\n",
       "7      2312\n",
       "6      4787\n",
       "5      8701\n",
       "4     14289\n",
       "3     22273\n",
       "2     31214\n",
       "1     38752\n",
       "0     47363\n",
       "Name: EWS_Total, dtype: int64"
      ]
     },
     "execution_count": 15,
     "metadata": {},
     "output_type": "execute_result"
    }
   ],
   "source": [
    "ews_total = df[\"EWS_Total\"].value_counts().sort_values()\n",
    "ews_total"
   ]
  },
  {
   "cell_type": "code",
   "execution_count": 16,
   "metadata": {},
   "outputs": [
    {
     "data": {
      "text/plain": [
       "42378      3.0\n",
       "77165      3.1\n",
       "24451      3.2\n",
       "102610     3.6\n",
       "43313      6.1\n",
       "          ... \n",
       "49911     40.5\n",
       "63044     40.8\n",
       "73655     41.0\n",
       "1299      42.0\n",
       "49041     50.0\n",
       "Name: TEMP, Length: 171736, dtype: float64"
      ]
     },
     "execution_count": 16,
     "metadata": {},
     "output_type": "execute_result"
    }
   ],
   "source": [
    "Temp_max = df[\"TEMP\"].sort_values()\n",
    "Temp_max"
   ]
  },
  {
   "cell_type": "code",
   "execution_count": 17,
   "metadata": {},
   "outputs": [
    {
     "data": {
      "text/plain": [
       "Index(['PatientId', 'ObservationDate', 'EwsProcedure', 'EWS_Total', 'SBP',\n",
       "       'SBP_Score', 'LOC', 'LOC_Score', 'SpO2', 'SpO2_Score', 'Add_O2',\n",
       "       'Add_O2_Score', 'HR', 'HR_Score', 'RR', 'RR_Score', 'TEMP',\n",
       "       'TEMP_Score'],\n",
       "      dtype='object')"
      ]
     },
     "execution_count": 17,
     "metadata": {},
     "output_type": "execute_result"
    }
   ],
   "source": [
    "df.columns\n"
   ]
  },
  {
   "cell_type": "markdown",
   "metadata": {},
   "source": [
    "## Pivot Tables"
   ]
  },
  {
   "cell_type": "code",
   "execution_count": 18,
   "metadata": {},
   "outputs": [
    {
     "name": "stdout",
     "output_type": "stream",
     "text": [
      "pivot\n"
     ]
    },
    {
     "data": {
      "image/png": "[encoded data removed]",
      "text/plain": [
       "<Figure size 432x288 with 1 Axes>"
      ]
     },
     "metadata": {
      "needs_background": "light"
     },
     "output_type": "display_data"
    }
   ],
   "source": [
    "pivot = df.pivot_table(index=['ObservationDate'], values=['EWS_Total'], aggfunc='sum').plot()\n",
    "\n",
    "print ('pivot')\n"
   ]
  },
  {
   "cell_type": "code",
   "execution_count": 19,
   "metadata": {},
   "outputs": [],
   "source": [
    "plt.show()\n"
   ]
  },
  {
   "cell_type": "code",
   "execution_count": 20,
   "metadata": {},
   "outputs": [],
   "source": [
    "# df = pd.DataFrame(['ObservationDate','EWS_Total','SBP','LOC','SpO2','Add_O2',HR','RR','TEMP'])\n",
    "# pivot = df.pivot_table(index=['ObservationDate'], values=['HR'], aggfunc='min').plot()\n",
    "\n",
    "# plt.show()"
   ]
  },
  {
   "cell_type": "code",
   "execution_count": 26,
   "metadata": {},
   "outputs": [
    {
     "data": {
      "text/html": [
       "<div>\n",
       "<style scoped>\n",
       "    .dataframe tbody tr th:only-of-type {\n",
       "        vertical-align: middle;\n",
       "    }\n",
       "\n",
       "    .dataframe tbody tr th {\n",
       "        vertical-align: top;\n",
       "    }\n",
       "\n",
       "    .dataframe thead th {\n",
       "        text-align: right;\n",
       "    }\n",
       "</style>\n",
       "<table border=\"1\" class=\"dataframe\">\n",
       "  <thead>\n",
       "    <tr style=\"text-align: right;\">\n",
       "      <th></th>\n",
       "      <th>SBP</th>\n",
       "      <th>HR</th>\n",
       "    </tr>\n",
       "    <tr>\n",
       "      <th>ObservationDate</th>\n",
       "      <th></th>\n",
       "      <th></th>\n",
       "    </tr>\n",
       "  </thead>\n",
       "  <tbody>\n",
       "    <tr>\n",
       "      <th>2019-05-01 13:27:50</th>\n",
       "      <td>143.000000</td>\n",
       "      <td>80</td>\n",
       "    </tr>\n",
       "    <tr>\n",
       "      <th>2019-05-01 15:27:44</th>\n",
       "      <td>120.688665</td>\n",
       "      <td>83</td>\n",
       "    </tr>\n",
       "    <tr>\n",
       "      <th>2019-05-01 15:54:27</th>\n",
       "      <td>117.000000</td>\n",
       "      <td>75</td>\n",
       "    </tr>\n",
       "    <tr>\n",
       "      <th>2019-05-01 16:07:27</th>\n",
       "      <td>120.688665</td>\n",
       "      <td>85</td>\n",
       "    </tr>\n",
       "    <tr>\n",
       "      <th>2019-05-01 17:03:16</th>\n",
       "      <td>135.000000</td>\n",
       "      <td>89</td>\n",
       "    </tr>\n",
       "    <tr>\n",
       "      <th>...</th>\n",
       "      <td>...</td>\n",
       "      <td>...</td>\n",
       "    </tr>\n",
       "    <tr>\n",
       "      <th>2020-01-02 08:57:05</th>\n",
       "      <td>88.000000</td>\n",
       "      <td>72</td>\n",
       "    </tr>\n",
       "    <tr>\n",
       "      <th>2020-01-02 08:58:46</th>\n",
       "      <td>83.000000</td>\n",
       "      <td>79</td>\n",
       "    </tr>\n",
       "    <tr>\n",
       "      <th>2020-01-02 09:03:14</th>\n",
       "      <td>118.000000</td>\n",
       "      <td>82</td>\n",
       "    </tr>\n",
       "    <tr>\n",
       "      <th>2020-01-02 09:03:20</th>\n",
       "      <td>129.000000</td>\n",
       "      <td>70</td>\n",
       "    </tr>\n",
       "    <tr>\n",
       "      <th>2020-01-02 09:03:56</th>\n",
       "      <td>133.000000</td>\n",
       "      <td>84</td>\n",
       "    </tr>\n",
       "  </tbody>\n",
       "</table>\n",
       "<p>171736 rows × 2 columns</p>\n",
       "</div>"
      ],
      "text/plain": [
       "                            SBP  HR\n",
       "ObservationDate                    \n",
       "2019-05-01 13:27:50  143.000000  80\n",
       "2019-05-01 15:27:44  120.688665  83\n",
       "2019-05-01 15:54:27  117.000000  75\n",
       "2019-05-01 16:07:27  120.688665  85\n",
       "2019-05-01 17:03:16  135.000000  89\n",
       "...                         ...  ..\n",
       "2020-01-02 08:57:05   88.000000  72\n",
       "2020-01-02 08:58:46   83.000000  79\n",
       "2020-01-02 09:03:14  118.000000  82\n",
       "2020-01-02 09:03:20  129.000000  70\n",
       "2020-01-02 09:03:56  133.000000  84\n",
       "\n",
       "[171736 rows x 2 columns]"
      ]
     },
     "execution_count": 26,
     "metadata": {},
     "output_type": "execute_result"
    }
   ],
   "source": [
    "df_1 = df[['SBP','HR']]\n",
    "df_1.index = df[\"ObservationDate\"]\n",
    "df_1\n"
   ]
  },
  {
   "cell_type": "code",
   "execution_count": 27,
   "metadata": {},
   "outputs": [
    {
     "data": {
      "text/plain": [
       "<AxesSubplot:xlabel='ObservationDate'>"
      ]
     },
     "execution_count": 27,
     "metadata": {},
     "output_type": "execute_result"
    },
    {
     "data": {
      "image/png": "[encoded data removed]",
      "text/plain": [
       "<Figure size 1296x576 with 1 Axes>"
      ]
     },
     "metadata": {
      "needs_background": "light"
     },
     "output_type": "display_data"
    }
   ],
   "source": [
    "df_1.plot(figsize = (18,8))"
   ]
  },
  {
   "cell_type": "code",
   "execution_count": 33,
   "metadata": {},
   "outputs": [
    {
     "data": {
      "text/html": [
       "<div>\n",
       "<style scoped>\n",
       "    .dataframe tbody tr th:only-of-type {\n",
       "        vertical-align: middle;\n",
       "    }\n",
       "\n",
       "    .dataframe tbody tr th {\n",
       "        vertical-align: top;\n",
       "    }\n",
       "\n",
       "    .dataframe thead th {\n",
       "        text-align: right;\n",
       "    }\n",
       "</style>\n",
       "<table border=\"1\" class=\"dataframe\">\n",
       "  <thead>\n",
       "    <tr style=\"text-align: right;\">\n",
       "      <th></th>\n",
       "      <th>EWS_Total</th>\n",
       "      <th>SBP</th>\n",
       "      <th>HR</th>\n",
       "    </tr>\n",
       "    <tr>\n",
       "      <th>ObservationDate</th>\n",
       "      <th></th>\n",
       "      <th></th>\n",
       "      <th></th>\n",
       "    </tr>\n",
       "  </thead>\n",
       "  <tbody>\n",
       "    <tr>\n",
       "      <th>2019-05-01 13:27:50</th>\n",
       "      <td>0</td>\n",
       "      <td>143.000000</td>\n",
       "      <td>80</td>\n",
       "    </tr>\n",
       "    <tr>\n",
       "      <th>2019-05-01 15:27:44</th>\n",
       "      <td>3</td>\n",
       "      <td>120.688665</td>\n",
       "      <td>83</td>\n",
       "    </tr>\n",
       "    <tr>\n",
       "      <th>2019-05-01 15:54:27</th>\n",
       "      <td>1</td>\n",
       "      <td>117.000000</td>\n",
       "      <td>75</td>\n",
       "    </tr>\n",
       "    <tr>\n",
       "      <th>2019-05-01 16:07:27</th>\n",
       "      <td>0</td>\n",
       "      <td>120.688665</td>\n",
       "      <td>85</td>\n",
       "    </tr>\n",
       "    <tr>\n",
       "      <th>2019-05-01 17:03:16</th>\n",
       "      <td>0</td>\n",
       "      <td>135.000000</td>\n",
       "      <td>89</td>\n",
       "    </tr>\n",
       "    <tr>\n",
       "      <th>...</th>\n",
       "      <td>...</td>\n",
       "      <td>...</td>\n",
       "      <td>...</td>\n",
       "    </tr>\n",
       "    <tr>\n",
       "      <th>2020-01-02 08:57:05</th>\n",
       "      <td>3</td>\n",
       "      <td>88.000000</td>\n",
       "      <td>72</td>\n",
       "    </tr>\n",
       "    <tr>\n",
       "      <th>2020-01-02 08:58:46</th>\n",
       "      <td>3</td>\n",
       "      <td>83.000000</td>\n",
       "      <td>79</td>\n",
       "    </tr>\n",
       "    <tr>\n",
       "      <th>2020-01-02 09:03:14</th>\n",
       "      <td>0</td>\n",
       "      <td>118.000000</td>\n",
       "      <td>82</td>\n",
       "    </tr>\n",
       "    <tr>\n",
       "      <th>2020-01-02 09:03:20</th>\n",
       "      <td>0</td>\n",
       "      <td>129.000000</td>\n",
       "      <td>70</td>\n",
       "    </tr>\n",
       "    <tr>\n",
       "      <th>2020-01-02 09:03:56</th>\n",
       "      <td>1</td>\n",
       "      <td>133.000000</td>\n",
       "      <td>84</td>\n",
       "    </tr>\n",
       "  </tbody>\n",
       "</table>\n",
       "<p>171736 rows × 3 columns</p>\n",
       "</div>"
      ],
      "text/plain": [
       "                     EWS_Total         SBP  HR\n",
       "ObservationDate                               \n",
       "2019-05-01 13:27:50          0  143.000000  80\n",
       "2019-05-01 15:27:44          3  120.688665  83\n",
       "2019-05-01 15:54:27          1  117.000000  75\n",
       "2019-05-01 16:07:27          0  120.688665  85\n",
       "2019-05-01 17:03:16          0  135.000000  89\n",
       "...                        ...         ...  ..\n",
       "2020-01-02 08:57:05          3   88.000000  72\n",
       "2020-01-02 08:58:46          3   83.000000  79\n",
       "2020-01-02 09:03:14          0  118.000000  82\n",
       "2020-01-02 09:03:20          0  129.000000  70\n",
       "2020-01-02 09:03:56          1  133.000000  84\n",
       "\n",
       "[171736 rows x 3 columns]"
      ]
     },
     "execution_count": 33,
     "metadata": {},
     "output_type": "execute_result"
    }
   ],
   "source": [
    "df_2 = df[['EWS_Total','SBP','HR']]\n",
    "df_2.index = df[\"ObservationDate\"]\n",
    "df_2"
   ]
  },
  {
   "cell_type": "code",
   "execution_count": 34,
   "metadata": {},
   "outputs": [
    {
     "data": {
      "text/plain": [
       "<AxesSubplot:xlabel='ObservationDate'>"
      ]
     },
     "execution_count": 34,
     "metadata": {},
     "output_type": "execute_result"
    },
    {
     "data": {
      "image/png": "[encoded data removed]",
      "text/plain": [
       "<Figure size 1296x576 with 1 Axes>"
      ]
     },
     "metadata": {
      "needs_background": "light"
     },
     "output_type": "display_data"
    }
   ],
   "source": [
    "df_2.plot(figsize = (18,8))"
   ]
  },
  {
   "cell_type": "markdown",
   "metadata": {},
   "source": [
    "## Timeseries data\n",
    "\n",
    "\n"
   ]
  },
  {
   "cell_type": "code",
   "execution_count": null,
   "metadata": {},
   "outputs": [],
   "source": []
  },
  {
   "cell_type": "code",
   "execution_count": null,
   "metadata": {},
   "outputs": [],
   "source": []
  },
  {
   "cell_type": "code",
   "execution_count": null,
   "metadata": {},
   "outputs": [],
   "source": []
  },
  {
   "cell_type": "code",
   "execution_count": null,
   "metadata": {},
   "outputs": [],
   "source": []
  },
  {
   "cell_type": "code",
   "execution_count": null,
   "metadata": {},
   "outputs": [],
   "source": []
  },
  {
   "cell_type": "code",
   "execution_count": null,
   "metadata": {},
   "outputs": [],
   "source": []
  }
 ],
 "metadata": {
  "kernelspec": {
   "display_name": "Python 3",
   "language": "python",
   "name": "python3"
  },
  "language_info": {
   "codemirror_mode": {
    "name": "ipython",
    "version": 3
   },
   "file_extension": ".py",
   "mimetype": "text/x-python",
   "name": "python",
   "nbconvert_exporter": "python",
   "pygments_lexer": "ipython3",
   "version": "3.7.9"
  }
 },
 "nbformat": 4,
 "nbformat_minor": 4
}
